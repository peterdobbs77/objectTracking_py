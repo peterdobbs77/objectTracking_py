{
 "cells": [
  {
   "cell_type": "markdown",
   "metadata": {},
   "source": [
    "# Demo on Object Detection, Tracking, and more!"
   ]
  },
  {
   "cell_type": "markdown",
   "metadata": {},
   "source": [
    "## Trialing various trackers for frisbee detection\n",
    "\n",
    "(for now) the main file in this directory is [track.py](./track.py).\n",
    "\n",
    "[pickup_and_go_30fps](./vid/pickup_and_go_30fps.mp4) serves as a complicated basis for attempting frisbee tracking. The white disc get obscured by the first player's body and tracking is further confused by the player's white jersey. Re-identifying objects is very important and our first bits of work will be to ensure that the tracking can find the right object.\n",
    "\n",
    "Let's start by reviewing existing tracking algorithms. The legacy trackers from OpenCV will be a good starting point: `['BOOSTING', 'MIL','KCF', 'TLD', 'MEDIANFLOW', 'GOTURN', 'MOSSE', 'CSRT']`."
   ]
  },
  {
   "cell_type": "markdown",
   "metadata": {},
   "source": [
    "| Algorithm | Marks | Notes |\n",
    "| --- | --- | --- |\n",
    "| BOOSTING | 🔴 | Requires grayscale image as input 🙃, skipping |\n",
    "| MIL | 🟡 | frantic tracking and gave false positives after disc picked up |\n",
    "| KCF | 🔴 | Not behaving, skipping |\n",
    "| TLD | 🟡 | slightly steadier than MIL, but thought the disc had migrated to the top left of frame |\n",
    "| MEDIANFLOW | 🟡 | Admits when it's wrong but also allows the bounding box to explode |\n",
    "| GOTURN | 🔴 | Not behaving, skipping |\n",
    "| MOSSE | 🔴 | Worst performance so far |\n",
    "| CSRT | 🟡 | Smooth (possibly slow) tracking, but failed to re-identify and complete tracking |\n",
    "\n",
    "None of these legacy algorithms can cut it! 😠"
   ]
  },
  {
   "cell_type": "code",
   "execution_count": null,
   "metadata": {},
   "outputs": [],
   "source": [
    "# %pip install opencv-contrib-python imutils --user"
   ]
  },
  {
   "cell_type": "markdown",
   "metadata": {},
   "source": [
    "## Optical Flow\n",
    "\n",
    "[optical_flow.py](./optical_flow.py) expands on the simple tracking of an object and attempts to trace its path through space. At this point, the program struggles with interruptions in the view of the object, but that's just something we'll have to improve! 😎"
   ]
  },
  {
   "cell_type": "code",
   "execution_count": null,
   "metadata": {},
   "outputs": [],
   "source": [
    "# !python optical_flow.py vid/pickup_and_go_30fps.mp4"
   ]
  }
 ],
 "metadata": {
  "language_info": {
   "name": "python"
  }
 },
 "nbformat": 4,
 "nbformat_minor": 2
}
