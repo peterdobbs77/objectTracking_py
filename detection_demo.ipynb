{
 "cells": [
  {
   "cell_type": "markdown",
   "metadata": {},
   "source": [
    "# Demo on Object Detection, Tracking, and more!"
   ]
  },
  {
   "cell_type": "markdown",
   "metadata": {},
   "source": [
    "Detecting and tracking objects is important for all kinds of applications. As a frisbee player and engineer, I want to apply my skills to this problem as a way to expand my knowledge of computer vision and learn more about video."
   ]
  },
  {
   "cell_type": "markdown",
   "metadata": {},
   "source": [
    "![Object Detection Example](res.png)"
   ]
  },
  {
   "cell_type": "markdown",
   "metadata": {},
   "source": [
    "## Trialing various trackers for frisbee detection\n",
    "\n",
    "[pickup_and_go_30fps](./vid/pickup_and_go_30fps.mp4) serves as a complicated basis for attempting frisbee tracking. The white disc get obscured by the first player's body and tracking is further confused by the player's white jersey. Re-identifying objects is very important and our first bits of work will be to ensure that the tracking can find the right object.\n",
    "\n",
    "For trialing the legacy trackers, check out [legacy_trackers.py](./trial_scripts/legacy_trackers.py).\n",
    "\n",
    "Let's start by reviewing existing tracking algorithms. The legacy trackers from OpenCV will be a good starting point: `['BOOSTING', 'MIL','KCF', 'TLD', 'MEDIANFLOW', 'GOTURN', 'MOSSE', 'CSRT']`."
   ]
  },
  {
   "cell_type": "markdown",
   "metadata": {},
   "source": [
    "| Algorithm | Marks | Notes |\n",
    "| --- | --- | --- |\n",
    "| BOOSTING | 🔴 | Requires grayscale image as input 🙃, skipping |\n",
    "| MIL | 🟡 | frantic tracking and gave false positives after disc picked up |\n",
    "| KCF | 🔴 | Not behaving, skipping |\n",
    "| TLD | 🟡 | slightly steadier than MIL, but thought the disc had migrated to the top left of frame |\n",
    "| MEDIANFLOW | 🟡 | Admits when it's wrong but also allows the bounding box to explode |\n",
    "| GOTURN | 🔴 | Not behaving, skipping |\n",
    "| MOSSE | 🔴 | Worst performance so far |\n",
    "| CSRT | 🟡 | Smooth (possibly slow) tracking, but failed to re-identify and complete tracking |\n",
    "\n",
    "None of these legacy algorithms can cut it! 😠"
   ]
  },
  {
   "cell_type": "markdown",
   "metadata": {},
   "source": [
    "## Modern tracking algorithms\n",
    "\n",
    "Let's instead try out some of the newer tracking algorithms\n",
    "\n",
    "for future reference: [track_using_YOLO.py](./track_using_YOLO.py)"
   ]
  },
  {
   "cell_type": "code",
   "execution_count": null,
   "metadata": {},
   "outputs": [
    {
     "name": "stdout",
     "output_type": "stream",
     "text": [
      "Collecting ultralytics\n",
      "  Downloading ultralytics-8.3.202-py3-none-any.whl.metadata (37 kB)\n",
      "Note: you may need to restart the kernel to use updated packages.\n"
     ]
    },
    {
     "name": "stderr",
     "output_type": "stream",
     "text": [
      "ERROR: Ignored the following versions that require a different python version: 8.0.10 Requires-Python >=3.7,<=3.11; 8.0.11 Requires-Python >=3.7,<=3.11; 8.0.12 Requires-Python >=3.7,<=3.11; 8.0.13 Requires-Python >=3.7,<=3.11; 8.0.14 Requires-Python >=3.7,<=3.11; 8.0.15 Requires-Python >=3.7,<=3.11; 8.0.16 Requires-Python >=3.7,<=3.11; 8.0.17 Requires-Python >=3.7,<=3.11; 8.0.18 Requires-Python >=3.7,<=3.11; 8.0.19 Requires-Python >=3.7,<=3.11; 8.0.20 Requires-Python >=3.7,<=3.11; 8.0.21 Requires-Python >=3.7,<=3.11; 8.0.22 Requires-Python >=3.7,<=3.11; 8.0.23 Requires-Python >=3.7,<=3.11; 8.0.24 Requires-Python >=3.7,<=3.11; 8.0.25 Requires-Python >=3.7,<=3.11; 8.0.26 Requires-Python >=3.7,<=3.11; 8.0.27 Requires-Python >=3.7,<=3.11; 8.0.28 Requires-Python >=3.7,<=3.11; 8.0.29 Requires-Python >=3.7,<=3.11; 8.0.30 Requires-Python >=3.7,<=3.11; 8.0.31 Requires-Python >=3.7,<=3.11; 8.0.32 Requires-Python >=3.7,<=3.11; 8.0.33 Requires-Python >=3.7,<=3.11; 8.0.34 Requires-Python >=3.7,<=3.11; 8.0.7 Requires-Python >=3.7,<=3.11; 8.0.8 Requires-Python >=3.7,<=3.11; 8.0.9 Requires-Python >=3.7,<=3.11\n",
      "ERROR: Could not find a version that satisfies the requirement sort (from versions: none)\n",
      "ERROR: No matching distribution found for sort\n"
     ]
    }
   ],
   "source": [
    "%pip install opencv-contrib-python ultralytics sort --user"
   ]
  },
  {
   "cell_type": "code",
   "execution_count": null,
   "metadata": {},
   "outputs": [],
   "source": []
  },
  {
   "cell_type": "code",
   "execution_count": null,
   "metadata": {},
   "outputs": [],
   "source": [
    "# %pip install opencv-contrib-python imutils --user"
   ]
  },
  {
   "cell_type": "markdown",
   "metadata": {},
   "source": [
    "## Optical Flow\n",
    "\n",
    "[optical_flow.py](./trial_scripts/optical_flow.py) expands on the simple tracking of an object and attempts to trace its path through space. At this point, the program struggles with interruptions in the view of the object, but that's just something we'll have to improve! 😎"
   ]
  },
  {
   "cell_type": "code",
   "execution_count": null,
   "metadata": {},
   "outputs": [],
   "source": [
    "# !python optical_flow.py vid/pickup_and_go_30fps.mp4"
   ]
  }
 ],
 "metadata": {
  "kernelspec": {
   "display_name": "Python 3",
   "language": "python",
   "name": "python3"
  },
  "language_info": {
   "codemirror_mode": {
    "name": "ipython",
    "version": 3
   },
   "file_extension": ".py",
   "mimetype": "text/x-python",
   "name": "python",
   "nbconvert_exporter": "python",
   "pygments_lexer": "ipython3",
   "version": "3.12.0"
  }
 },
 "nbformat": 4,
 "nbformat_minor": 2
}
